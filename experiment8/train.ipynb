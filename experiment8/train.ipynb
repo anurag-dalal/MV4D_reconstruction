{
 "cells": [
  {
   "cell_type": "code",
   "execution_count": 66,
   "id": "d0239e13",
   "metadata": {},
   "outputs": [
    {
     "name": "stderr",
     "output_type": "stream",
     "text": [
      "/home/anurag/miniconda3/envs/dl/lib/python3.10/site-packages/torchmetrics/functional/image/lpips.py:325: FutureWarning: You are using `torch.load` with `weights_only=False` (the current default value), which uses the default pickle module implicitly. It is possible to construct malicious pickle data which will execute arbitrary code during unpickling (See https://github.com/pytorch/pytorch/blob/main/SECURITY.md#untrusted-models for more details). In a future release, the default value for `weights_only` will be flipped to `True`. This limits the functions that could be executed during unpickling. Arbitrary objects will no longer be allowed to be loaded via this mode unless they are explicitly allowlisted by the user via `torch.serialization.add_safe_globals`. We recommend you start setting `weights_only=True` for any use case where you don't have full control of the loaded file. Please open an issue on GitHub for any issues related to this experimental feature.\n",
      "  self.load_state_dict(torch.load(model_path, map_location=\"cpu\"), strict=False)\n"
     ]
    },
    {
     "name": "stdout",
     "output_type": "stream",
     "text": [
      "Number of timesteps: 150\n",
      "Dataset for timestep 0: 27 cameras\n"
     ]
    },
    {
     "name": "stderr",
     "output_type": "stream",
     "text": [
      "\u001b[32m2025-05-26 20:59:22.932\u001b[0m | \u001b[1mINFO    \u001b[0m | \u001b[36mptlflow\u001b[0m:\u001b[36mrestore_model\u001b[0m:\u001b[36m283\u001b[0m - \u001b[1mRestored model state from checkpoint: things\u001b[0m\n",
      "/home/anurag/codes/MV4D_reconstruction/experiment8/utils/DynamicGaussianModel.py:85: FutureWarning: You are using `torch.load` with `weights_only=False` (the current default value), which uses the default pickle module implicitly. It is possible to construct malicious pickle data which will execute arbitrary code during unpickling (See https://github.com/pytorch/pytorch/blob/main/SECURITY.md#untrusted-models for more details). In a future release, the default value for `weights_only` will be flipped to `True`. This limits the functions that could be executed during unpickling. Arbitrary objects will no longer be allowed to be loaded via this mode unless they are explicitly allowlisted by the user via `torch.serialization.add_safe_globals`. We recommend you start setting `weights_only=True` for any use case where you don't have full control of the loaded file. Please open an issue on GitHub for any issues related to this experimental feature.\n",
      "  self.params = torch.load(path)\n"
     ]
    },
    {
     "name": "stdout",
     "output_type": "stream",
     "text": [
      "torch.Size([160578, 6]) torch.Size([516871, 3])\n",
      "Initial torch.Size([194105, 3])\n"
     ]
    }
   ],
   "source": [
    "from utils.DataManager import DynamicGaussianDatasetManager\n",
    "from utils.DynamicGaussianModel import GaussianModelTrainer, VoxelModelManager\n",
    "from utils.Metrices import Metrics\n",
    "from utils.StatSaver import StatSaver\n",
    "from utils.Helpers import visulaize_point_cloud_6d_torch_array\n",
    "import torch\n",
    "import os\n",
    "import time\n",
    "from tqdm import tqdm\n",
    "import matplotlib.pyplot as plt\n",
    "\n",
    "\n",
    "exp_name = \"start4\"\n",
    "dataset_name = \"dynamic\"\n",
    "dataset_root_path = \"/mnt/c/MyFiles/Datasets/dynamic/data\"\n",
    "output_path = \"/home/anurag/codes/MV4D_reconstruction/output\"\n",
    "sequence = \"basketball\"\n",
    "dataset_path = os.path.join(dataset_root_path, sequence)\n",
    "output_path = os.path.join(output_path, exp_name, dataset_name, sequence)\n",
    "dataset_manager = DynamicGaussianDatasetManager(dataset_path, device=torch.device('cuda' if torch.cuda.is_available() else 'cpu'))\n",
    "metrics_manager = Metrics(dataset_manager)\n",
    "stat_saver = StatSaver(os.path.join(output_path, \"train_stats.csv\"))\n",
    "num_timesteps = dataset_manager.num_timesteps\n",
    "print(f\"Number of timesteps: {num_timesteps}\")\n",
    "print(f\"Dataset for timestep 0: {dataset_manager.train_num_cams} cameras\")\n",
    "model = GaussianModelTrainer(dataset_manager)\n",
    "# initial timestep optimization\n",
    "curr_timestep = 0\n",
    "num_iterations = 5000\n",
    "start = time.time()\n",
    "\n",
    "optimizer = model.initialize_optimizer(scaling_factor=15.0)\n",
    "if os.path.exists(os.path.join(output_path, f\"final_model.pth\")):\n",
    "    model.load_model(os.path.join(output_path, f\"final_model.pth\"))\n",
    "else:\n",
    "    pbar = tqdm(range(num_iterations), desc=f\"Timestep {curr_timestep}\")\n",
    "    running_loss = 0.0\n",
    "    for i in pbar:\n",
    "        batch_loss = 0.0\n",
    "        for j in range(dataset_manager.train_num_cams):\n",
    "            # Ensure both tensors are on the same device\n",
    "            loss, variables = model.get_loss_ij(curr_timestep, j)\n",
    "            model.update_variables(variables)\n",
    "            batch_loss += loss.item()\n",
    "            loss.backward()\n",
    "        with torch.no_grad():\n",
    "            if i % 10 == 0:\n",
    "                model.adaptive_densification(optimizer, j)\n",
    "            optimizer.step()\n",
    "            optimizer.zero_grad()\n",
    "        running_loss = 0.9 * running_loss + 0.1 * batch_loss if i > 0 else batch_loss\n",
    "        pbar.set_postfix({\"loss\": f\"{running_loss:.6f}\"})\n",
    "    end = time.time()\n",
    "    model.save_model(os.path.join(output_path, f\"final_model.pth\"))\n",
    "    train_all_metrics = metrics_manager.get_metrics(model, curr_timestep, train=True)\n",
    "    test_all_metrics = metrics_manager.get_metrics(model, curr_timestep, train=False)\n",
    "    log_stat = [curr_timestep, num_iterations, train_all_metrics['avg_L1'], train_all_metrics['avg_PSNR'], train_all_metrics['avg_SSIM'], train_all_metrics['avg_LPIPS'], train_all_metrics['avg_MSSSIM'],        test_all_metrics['avg_L1'], test_all_metrics['avg_PSNR'], test_all_metrics['avg_SSIM'], test_all_metrics['avg_LPIPS'], test_all_metrics['avg_MSSSIM'],\n",
    "                end - start, model.get_num_params(), model.get_model_size()]\n",
    "    stat_saver.save_stat(log_stat)\n",
    "\n",
    "i = 1\n",
    "running_loss = 0.0\n",
    "curr_timestep = i\n",
    "num_iterations1 = 100\n",
    "start = time.time()\n",
    "\n",
    "\n",
    "all_points, remove_points, data_to_optimize = model.get_changes(curr_timestep)\n",
    "print(all_points.shape, remove_points.shape)\n",
    "print('Initial', model.gm.params['means3D'].shape)\n",
    "VM = VoxelModelManager(model.avg_distance*2)\n",
    "VM.initialize_points(model.gm.params['means3D'])\n",
    "remove_points_indices = VM.indices_of_points_to_remove(remove_points)\n",
    "remove_points_mask = torch.tensor(remove_points_indices, dtype=torch.bool, device=model.gm.params['means3D'].device)"
   ]
  },
  {
   "cell_type": "code",
   "execution_count": 67,
   "id": "9079d2d1",
   "metadata": {},
   "outputs": [],
   "source": [
    "prev_points = model.gm.params['means3D'].detach().cpu().numpy()\n",
    "points_to_remove = remove_points.detach().cpu().numpy()\n",
    "import numpy as np\n",
    "import open3d as o3d\n",
    "point_cloud = o3d.geometry.PointCloud()\n",
    "point_cloud.points = o3d.utility.Vector3dVector(points_to_remove)\n",
    "voxel_grid_to_remove = o3d.geometry.VoxelGrid.create_from_point_cloud(point_cloud, voxel_size=VM.voxel_size*4)\n",
    "indices_to_remove = voxel_grid_to_remove.check_if_included(o3d.utility.Vector3dVector(prev_points))\n",
    "indices_to_remove = np.array(indices_to_remove, dtype=bool)\n",
    "# rc = remove_points.detach().cpu().numpy()\n"
   ]
  },
  {
   "cell_type": "code",
   "execution_count": 68,
   "id": "10f687cc",
   "metadata": {},
   "outputs": [
    {
     "data": {
      "text/plain": [
       "((194105, 3), (516871, 3), (194105,))"
      ]
     },
     "execution_count": 68,
     "metadata": {},
     "output_type": "execute_result"
    }
   ],
   "source": [
    "prev_points.shape, points_to_remove.shape, indices_to_remove.shape"
   ]
  },
  {
   "cell_type": "code",
   "execution_count": 69,
   "id": "134aec3d",
   "metadata": {},
   "outputs": [],
   "source": [
    "new_points = prev_points[np.logical_not(indices_to_remove)]"
   ]
  },
  {
   "cell_type": "code",
   "execution_count": 70,
   "id": "c26a8499",
   "metadata": {},
   "outputs": [
    {
     "data": {
      "text/plain": [
       "(66188, 3)"
      ]
     },
     "execution_count": 70,
     "metadata": {},
     "output_type": "execute_result"
    }
   ],
   "source": [
    "new_points.shape"
   ]
  },
  {
   "cell_type": "code",
   "execution_count": 71,
   "id": "652c6137",
   "metadata": {},
   "outputs": [],
   "source": [
    "point_cloud = o3d.geometry.PointCloud()\n",
    "point_cloud.points = o3d.utility.Vector3dVector(new_points)\n",
    "o3d.visualization.draw_geometries([point_cloud])"
   ]
  },
  {
   "cell_type": "code",
   "execution_count": 77,
   "id": "c18540d3",
   "metadata": {},
   "outputs": [],
   "source": [
    "model.load_model(os.path.join(output_path, f\"final_model.pth\"))\n",
    "point_cloud = o3d.geometry.PointCloud()\n",
    "point_cloud.points = o3d.utility.Vector3dVector(model.gm.params['means3D'].detach().cpu().numpy())\n",
    "o3d.visualization.draw_geometries([point_cloud])\n",
    "to_keep = torch.logical_not(torch.from_numpy(indices_to_remove))\n",
    "for k, v in model.gm.params.items():\n",
    "    if v.shape[0] == to_keep.shape[0]:\n",
    "        model.gm.params[k] = v[to_keep]"
   ]
  },
  {
   "cell_type": "code",
   "execution_count": 78,
   "id": "1c95fe6f",
   "metadata": {},
   "outputs": [],
   "source": [
    "point_cloud = o3d.geometry.PointCloud()\n",
    "point_cloud.points = o3d.utility.Vector3dVector(model.gm.params['means3D'].detach().cpu().numpy())\n",
    "o3d.visualization.draw_geometries([point_cloud])"
   ]
  },
  {
   "cell_type": "code",
   "execution_count": null,
   "id": "c108939c",
   "metadata": {},
   "outputs": [],
   "source": []
  }
 ],
 "metadata": {
  "kernelspec": {
   "display_name": "dl",
   "language": "python",
   "name": "python3"
  },
  "language_info": {
   "codemirror_mode": {
    "name": "ipython",
    "version": 3
   },
   "file_extension": ".py",
   "mimetype": "text/x-python",
   "name": "python",
   "nbconvert_exporter": "python",
   "pygments_lexer": "ipython3",
   "version": "3.10.13"
  }
 },
 "nbformat": 4,
 "nbformat_minor": 5
}
